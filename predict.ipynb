{
  "nbformat": 4,
  "nbformat_minor": 0,
  "metadata": {
    "colab": {
      "provenance": []
    },
    "kernelspec": {
      "name": "python3",
      "display_name": "Python 3"
    },
    "language_info": {
      "name": "python"
    }
  },
  "cells": [
    {
      "cell_type": "code",
      "execution_count": 1,
      "metadata": {
        "id": "pPi8ARf9lHyp"
      },
      "outputs": [],
      "source": [
        "import pandas as pd\n",
        "import xgboost as xgb\n",
        "import matplotlib.pyplot as plt\n",
        "from sklearn.model_selection import train_test_split\n",
        "from sklearn.metrics import accuracy_score\n",
        "\n"
      ]
    },
    {
      "cell_type": "code",
      "source": [
        "# Load the data\n",
        "data = pd.read_csv('sample_data/data_model.csv', encoding='ISO-8859-1')\n",
        "# Map actual labels to class labels\n",
        "class_mapping = {'d': 0, 'l': 1, 'w': 2}\n",
        "data['RESULTS'] = data['RESULTS'].map(class_mapping)\n",
        "# Preprocess the data\n",
        "features = data[['W', 'D', 'L']]\n",
        "target = data['RESULTS']\n"
      ],
      "metadata": {
        "id": "Iez8K4TxlOCr"
      },
      "execution_count": 3,
      "outputs": []
    },
    {
      "cell_type": "code",
      "source": [
        "# Split the data into training and testing sets\n",
        "X_train, X_test, y_train, y_test = train_test_split(features, target, test_size=0.2, random_state=42)\n",
        "\n",
        "# Define the XGBoost model\n",
        "model = xgb.XGBClassifier(objective='multi:softmax', num_class=3)  # Assumes 3 classes: win, draw, lose\n",
        "\n",
        "# Train the model\n",
        "model.fit(X_train, y_train)\n",
        "\n",
        "# Make predictions on the test set\n",
        "y_pred = model.predict(X_test)\n",
        "\n"
      ],
      "metadata": {
        "id": "ug3qvn3mlOen"
      },
      "execution_count": 4,
      "outputs": []
    },
    {
      "cell_type": "code",
      "source": [
        "# Evaluate the model\n",
        "accuracy = accuracy_score(y_test, y_pred)\n",
        "print(\"Accuracy: %.2f%%\" % (accuracy * 100.0))\n",
        "\n"
      ],
      "metadata": {
        "id": "fABdJ46zlOsq",
        "colab": {
          "base_uri": "https://localhost:8080/"
        },
        "outputId": "93f37c8b-ae9c-4250-f04b-f1232f875e65"
      },
      "execution_count": 5,
      "outputs": [
        {
          "output_type": "stream",
          "name": "stdout",
          "text": [
            "Accuracy: 46.71%\n"
          ]
        }
      ]
    },
    {
      "cell_type": "code",
      "source": [
        "# Accept input for new match data\n",
        "new_match = pd.DataFrame({'W': [1.37], 'D': [5.00], 'L': [27.70\t]})  # Replace with the actual values for the new match\n",
        "\n",
        "# Use the trained model to predict the outcome for the new match\n",
        "new_prediction = model.predict(new_match)\n",
        "\n",
        "# Map the predicted outcome back to the actual labels\n",
        "predicted_outcome = [k for k, v in class_mapping.items() if v == new_prediction][0]\n",
        "\n",
        "# Print the predicted outcome\n",
        "print(\"Predicted Outcome:\", predicted_outcome)"
      ],
      "metadata": {
        "colab": {
          "base_uri": "https://localhost:8080/"
        },
        "id": "OzSV-PnPl1-v",
        "outputId": "f8bc5002-c73d-4530-f946-6ce42e5f256d"
      },
      "execution_count": 15,
      "outputs": [
        {
          "output_type": "stream",
          "name": "stdout",
          "text": [
            "Predicted Outcome: d\n"
          ]
        }
      ]
    },
    {
      "cell_type": "code",
      "source": [
        "\n",
        "# Visualize the distribution of outcomes\n",
        "outcome_counts = data['RESULTS'].value_counts()\n",
        "plt.figure(figsize=(8, 8))\n",
        "plt.bar(outcome_counts.index, outcome_counts.values)\n",
        "plt.title('Distribution of Outcomes')\n",
        "plt.xlabel('Outcome')\n",
        "plt.ylabel('Count')\n",
        "plt.show()\n",
        "\n",
        "# Visualize the betting odds for each outcome\n",
        "outcomes = data['RESULTS'].unique()\n",
        "for outcome in outcomes:\n",
        "    subset = data[data['RESULTS'] == outcome]\n",
        "    plt.figure(figsize=(10, 10))\n",
        "    plt.hist(subset['W'], bins=20, alpha=0.5, label='Win Odds')\n",
        "    plt.hist(subset['D'], bins=20, alpha=0.5, label='Draw Odds')\n",
        "    plt.hist(subset['L'], bins=20, alpha=0.5, label='Lose Odds')\n",
        "    plt.title(f'Betting Odds Distribution for {outcome}')\n",
        "    plt.xlabel('Betting Odds')\n",
        "    plt.ylabel('Frequency')\n",
        "    plt.legend()\n",
        "    plt.show()\n"
      ],
      "metadata": {
        "id": "wuw7AgaEwoGw"
      },
      "execution_count": null,
      "outputs": []
    }
  ]
}