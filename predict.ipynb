{
  "cells": [
    {
      "cell_type": "code",
      "execution_count": null,
      "metadata": {
        "id": "pPi8ARf9lHyp"
      },
      "outputs": [],
      "source": [
        "import pandas as pd\n",
        "import xgboost as xgb\n",
        "import seaborn as sns\n",
        "import matplotlib.pyplot as plt\n",
        "from sklearn.preprocessing import StandardScaler\n",
        "from sklearn.metrics import confusion_matrix, classification_report\n",
        "from sklearn.model_selection import train_test_split\n",
        "from sklearn.metrics import accuracy_score\n",
        "\n"
      ]
    },
    {
      "cell_type": "code",
      "execution_count": null,
      "metadata": {
        "id": "Iez8K4TxlOCr"
      },
      "outputs": [],
      "source": [
        "# Load the data\n",
        "data = pd.read_csv('sample_data/data_model.csv', encoding='ISO-8859-1')\n",
        "# Map actual labels to class labels\n",
        "class_mapping = {'d': 0, 'l': 1, 'w': 2}\n",
        "data['RESULTS'] = data['RESULTS'].map(class_mapping)\n",
        "# Preprocess the data\n",
        "features = data[['W', 'D', 'L']]\n",
        "target = data['RESULTS']\n"
      ]
    },
    {
      "cell_type": "code",
      "execution_count": null,
      "metadata": {
        "id": "ug3qvn3mlOen"
      },
      "outputs": [],
      "source": [
        "# Split the data into training and testing sets\n",
        "X_train, X_test, y_train, y_test = train_test_split(features, target, test_size=0.2, random_state=52)\n",
        "\n",
        "# Define the XGBoost model\n",
        "model = xgb.XGBClassifier(objective='count:poisson', num_class=3)\n",
        "\n",
        "# Train the model\n",
        "model.fit(X_train, y_train)\n",
        "\n",
        "# Make predictions on the test set\n",
        "y_pred = model.predict(X_test)\n",
        "\n"
      ]
    },
    {
      "cell_type": "code",
      "execution_count": null,
      "metadata": {
        "id": "fABdJ46zlOsq"
      },
      "outputs": [],
      "source": [
        "# Evaluate the model\n",
        "accuracy = accuracy_score(y_test, y_pred)\n",
        "print(\"Accuracy: %.2f%%\" % (accuracy * 100.0))\n",
        "\n"
      ]
    },
    {
      "cell_type": "code",
      "execution_count": null,
      "metadata": {
        "id": "OzSV-PnPl1-v",
        "colab": {
          "base_uri": "https://localhost:8080/"
        },
        "outputId": "b52ca36f-39ec-40b2-a4d6-4242f08f701a"
      },
      "outputs": [
        {
          "output_type": "stream",
          "name": "stdout",
          "text": [
            "Predicted Outcome: d\n"
          ]
        }
      ],
      "source": [
        "# Accept input for new match data\n",
        "new_match = pd.DataFrame({'W': [ 2.38], 'D':  [3.66], 'L': [2.58]})\n",
        "\n",
        "# Use the trained model to predict the outcome for the new match\n",
        "new_prediction = model.predict(new_match)\n",
        "\n",
        "# Map the predicted outcome back to the actual labels\n",
        "predicted_outcome = [k for k, v in class_mapping.items() if v == new_prediction][0]\n",
        "\n",
        "# Print the predicted outcome\n",
        "print(\"Predicted Outcome:\", predicted_outcome)\n",
        "\n",
        "\n",
        "\n",
        "\n",
        "\n",
        "\n"
      ]
    },
    {
      "cell_type": "code",
      "source": [
        "\n",
        "# Initialize a list to store the outcomes\n",
        "outcomes = []\n",
        "\n",
        "# Loop for 10 matches\n",
        "for i in range(1):\n",
        "    # Accept input for new match data\n",
        "    w = float(input(\"Enter the value for W: \"))\n",
        "    d = float(input(\"Enter the value for D: \"))\n",
        "    l = float(input(\"Enter the value for L: \"))\n",
        "\n",
        "    # Create a DataFrame for the new match data\n",
        "    new_match = pd.DataFrame({'W': [w], 'D': [d], 'L': [l]})\n",
        "\n",
        "    # Use the trained model to predict the outcome for the new match\n",
        "    new_prediction = model.predict(new_match)\n",
        "\n",
        "    # Map the predicted outcome back to the actual labels\n",
        "    predicted_outcome = [k for k, v in class_mapping.items() if v == new_prediction]\n",
        "\n",
        "    # Check if the predicted outcome is found in the class_mapping\n",
        "    if len(predicted_outcome) > 0:\n",
        "        outcome = predicted_outcome[0]\n",
        "    else:\n",
        "        outcome = \"Unknown\"\n",
        "\n",
        "    # Append the predicted outcome to the outcomes list\n",
        "    outcomes.append(outcome)\n",
        "\n",
        "# Print the outcomes for all 10 matches\n",
        "print(\"Predicted Outcomes:\")\n",
        "for i, outcome in enumerate(outcomes):\n",
        "    print(f\"Match {i+1}: {outcome}\")\n"
      ],
      "metadata": {
        "id": "aYVrp3BYnAkZ"
      },
      "execution_count": null,
      "outputs": []
    },
    {
      "cell_type": "code",
      "execution_count": null,
      "metadata": {
        "id": "hBbe9cGKppdA",
        "cellView": "code"
      },
      "outputs": [],
      "source": [
        "\n",
        "# Visualize the distribution of outcomes\n",
        "outcome_counts = data['RESULTS'].value_counts()\n",
        "plt.figure(figsize=(8, 8))\n",
        "plt.bar(outcome_counts.index, outcome_counts.values)\n",
        "plt.title('Distribution of Outcomes')\n",
        "plt.xlabel('Outcome')\n",
        "plt.ylabel('Count')\n",
        "plt.show()\n",
        "\n",
        "# Visualize the betting odds for each outcome\n",
        "outcomes = data['RESULTS'].unique()\n",
        "for outcome in outcomes:\n",
        "    subset = data[data['RESULTS'] == outcome]\n",
        "    plt.figure(figsize=(10, 10))\n",
        "\n",
        "    # Plotting distribution curves\n",
        "    sns.kdeplot(subset['W'], label='Win Odds')\n",
        "    sns.kdeplot(subset['D'], label='Draw Odds')\n",
        "    sns.kdeplot(subset['L'], label='Lose Odds')\n",
        "\n",
        "    plt.title(f'Betting Odds Distribution for {outcome} (with Distribution Curves)')\n",
        "    plt.xlabel('Betting Odds')\n",
        "    plt.ylabel('Density')\n",
        "    plt.legend()\n",
        "    plt.show()\n"
      ]
    },
    {
      "cell_type": "code",
      "execution_count": null,
      "metadata": {
        "id": "IevUk8WY0ST4",
        "colab": {
          "base_uri": "https://localhost:8080/",
          "height": 755
        },
        "outputId": "93ffaeea-b1d4-41b0-c02e-81a5fb454992"
      },
      "outputs": [
        {
          "output_type": "display_data",
          "data": {
            "text/plain": [
              "<Figure size 800x600 with 2 Axes>"
            ],
            "image/png": "[encoded data removed]"
          },
          "metadata": {}
        },
        {
          "output_type": "stream",
          "name": "stdout",
          "text": [
            "Classification Report:\n",
            "               precision    recall  f1-score   support\n",
            "\n",
            "           0       0.34      0.19      0.25       257\n",
            "           1       0.53      0.49      0.51       334\n",
            "           2       0.56      0.73      0.64       471\n",
            "\n",
            "    accuracy                           0.52      1062\n",
            "   macro avg       0.48      0.47      0.46      1062\n",
            "weighted avg       0.50      0.52      0.50      1062\n",
            "\n"
          ]
        }
      ],
      "source": [
        "\n",
        "\n",
        "# Create a confusion matrix\n",
        "cm = confusion_matrix(y_test, y_pred)\n",
        "\n",
        "# Visualize the confusion matrix\n",
        "plt.figure(figsize=(8, 6))\n",
        "sns.heatmap(cm, annot=True, cmap=\"Blues\", fmt=\"d\")\n",
        "plt.title('Confusion Matrix')\n",
        "plt.xlabel('Predicted')\n",
        "plt.ylabel('True')\n",
        "plt.show()\n",
        "\n",
        "# Create a classification report\n",
        "report = classification_report(y_test, y_pred)\n",
        "\n",
        "# Print the classification report\n",
        "print(\"Classification Report:\\n\", report)\n"
      ]
    }
  ],
  "metadata": {
    "colab": {
      "provenance": [],
      "authorship_tag": "ABX9TyPtuTzOfFFhwnvVMSYiYkN/"
    },
    "kernelspec": {
      "display_name": "Python 3",
      "name": "python3"
    },
    "language_info": {
      "name": "python"
    }
  },
  "nbformat": 4,
  "nbformat_minor": 0
}